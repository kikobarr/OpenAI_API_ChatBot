{
 "cells": [
  {
   "cell_type": "markdown",
   "id": "9d842042-a5ab-4730-a9ec-d9680074e17f",
   "metadata": {},
   "source": [
    "Project Description: A Python notebook that interacts with the OpenAI API to send and receive messages using JSON payloads. It utilizes the requests library for web client functionality."
   ]
  },
  {
   "cell_type": "code",
   "execution_count": 15,
   "id": "ce533b39-eda6-44a7-925c-49105967f0bb",
   "metadata": {},
   "outputs": [
    {
     "data": {
      "text/markdown": [
       "Certainly! Here are three suggestions for using a sweet pomegranate sauce:\n",
       "\n",
       "1. **Duck Breast with Pomegranate Glaze**: Pair the sweet and tangy flavors of the pomegranate sauce with a seared duck breast. Cook the duck breast to medium-rare and glaze it with the sauce just before finishing to enhance the meat's richness. Serve it alongside roasted root vegetables or a creamy parsnip puree for a complete dish.\n",
       "\n",
       "2. **Grilled Eggplant with Pomegranate Sauce**: For a vegetarian option, grill slices of eggplant until they are tender and slightly charred. Drizzle the sweet pomegranate sauce over the eggplant slices and garnish with crumbled feta cheese, chopped fresh mint, and toasted pine nuts. This combination offers a delightful contrast of textures and flavors.\n",
       "\n",
       "3. **Pomegranate-Cocoa Dessert Sauce**: Use the pomegranate sauce as a dessert topping for a chocolate pate or a flourless chocolate cake. The sweetness of the pomegranate sauce complements the richness of chocolate beautifully. Add a dollop of whipped cream or a scoop of vanilla ice cream for extra indulgence. Finish with fresh pomegranate seeds for a burst of tartness.\n",
       "\n",
       "These applications highlight the versatility of pomegranate sauce, allowing it to enhance both savory and sweet dishes."
      ],
      "text/plain": [
       "<IPython.core.display.Markdown object>"
      ]
     },
     "metadata": {},
     "output_type": "display_data"
    }
   ],
   "source": [
    "import os\n",
    "from openai import OpenAI\n",
    "from IPython.display import display, Markdown\n",
    "from dotenv import load_dotenv\n",
    "\n",
    "load_dotenv()\n",
    "openai.api_key = os.environ[\"OPENAI_API_KEY\"]\n",
    "\n",
    "# create an instance of the OpenAI class\n",
    "client = OpenAI()\n",
    "\n",
    "# creates a request to OpenAI’s API to generate a chat-based completion\n",
    "completion = client.chat.completions.create(\n",
    "    model=\"gpt-4o\",\n",
    "    messages=[\n",
    "        {\"role\": \"developer\", \n",
    "             \"content\": \"You are a chef at a Michelin 3-star restaurant.\"},\n",
    "        {\"role\": \"user\",\n",
    "            \"content\": \"Please give me three suggestions for how to use a sweet pomegranate sauce.\"}\n",
    "    ]\n",
    ")\n",
    "\n",
    "display(Markdown(completion.choices[0].message.content))\n"
   ]
  }
 ],
 "metadata": {
  "kernelspec": {
   "display_name": "Python (venv)",
   "language": "python",
   "name": "venv"
  },
  "language_info": {
   "codemirror_mode": {
    "name": "ipython",
    "version": 3
   },
   "file_extension": ".py",
   "mimetype": "text/x-python",
   "name": "python",
   "nbconvert_exporter": "python",
   "pygments_lexer": "ipython3",
   "version": "3.13.0"
  }
 },
 "nbformat": 4,
 "nbformat_minor": 5
}
